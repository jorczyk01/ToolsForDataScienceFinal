{
 "cells": [
  {
   "cell_type": "markdown",
   "id": "c46cfabc-f9d6-4f09-81ff-f6cdcd5e48f7",
   "metadata": {
    "tags": []
   },
   "source": [
    "# Data Science Tools and Ecosystem"
   ]
  },
  {
   "cell_type": "markdown",
   "id": "b59b0842-c01e-4e1b-a814-c4b462f801fc",
   "metadata": {},
   "source": [
    "In this notebook, Data Science Tools and Ecosystem are summarized."
   ]
  },
  {
   "cell_type": "markdown",
   "id": "473475ae-3477-4bad-a970-9d6198150172",
   "metadata": {},
   "source": [
    "Some of the popular languages that Data Scientists use are:\n",
    "1. Python\n",
    "2. R\n",
    "3. SQL\n",
    "4. C++"
   ]
  },
  {
   "cell_type": "markdown",
   "id": "a393c766-19bd-4a22-847e-7ff890da160f",
   "metadata": {},
   "source": [
    "Some of the commonly used libraries used by Data Scientists include:\n",
    "1. dplyr\n",
    "2. ggplot\n",
    "3. scikit-learn\n",
    "4. Caret"
   ]
  },
  {
   "cell_type": "markdown",
   "id": "8aca569d-1297-4bdd-b243-01fdad531d0c",
   "metadata": {},
   "source": [
    "| Data Science Tools |\n",
    "| ------------------ |\n",
    "| RStudio |\n",
    "| Apache Spark |\n",
    "| Jupyter Lab |"
   ]
  },
  {
   "cell_type": "markdown",
   "id": "dbc3018d-96ad-4612-b3b6-65b10a89d259",
   "metadata": {},
   "source": [
    "### Below are a few examples of evaluating arithmetic expressions in Python"
   ]
  },
  {
   "cell_type": "code",
   "execution_count": 1,
   "id": "e1edbce8-6c4d-4d81-bb00-e03385ccfc02",
   "metadata": {
    "tags": []
   },
   "outputs": [
    {
     "data": {
      "text/plain": [
       "17"
      ]
     },
     "execution_count": 1,
     "metadata": {},
     "output_type": "execute_result"
    }
   ],
   "source": [
    "#This a simple arithmetic expression to mutiply then add integers\n",
    "(3*4)+5"
   ]
  },
  {
   "cell_type": "code",
   "execution_count": 2,
   "id": "b0b0e833-70ce-4034-bc28-077ef1a7bb52",
   "metadata": {
    "tags": []
   },
   "outputs": [
    {
     "data": {
      "text/plain": [
       "3.3333333333333335"
      ]
     },
     "execution_count": 2,
     "metadata": {},
     "output_type": "execute_result"
    }
   ],
   "source": [
    "#This will convert 200 minutes to hours by diving by 60\n",
    "200 / 60"
   ]
  },
  {
   "cell_type": "markdown",
   "id": "4d75323b-ab7e-4410-b4a2-4720cc9786ee",
   "metadata": {},
   "source": [
    "Objectives\n",
    "+ List data science languages\n",
    "+ List data science libraries\n",
    "+ List data science tools\n",
    "+ Multiply and add numbers\n",
    "+ Convert minutes to hours"
   ]
  },
  {
   "cell_type": "markdown",
   "id": "160a6dbf-ea43-4c59-bc31-0897af4240e6",
   "metadata": {},
   "source": [
    "## Author\n",
    "John Orczyk"
   ]
  }
 ],
 "metadata": {
  "kernelspec": {
   "display_name": "Python",
   "language": "python",
   "name": "conda-env-python-py"
  },
  "language_info": {
   "codemirror_mode": {
    "name": "ipython",
    "version": 3
   },
   "file_extension": ".py",
   "mimetype": "text/x-python",
   "name": "python",
   "nbconvert_exporter": "python",
   "pygments_lexer": "ipython3",
   "version": "3.7.12"
  }
 },
 "nbformat": 4,
 "nbformat_minor": 5
}
